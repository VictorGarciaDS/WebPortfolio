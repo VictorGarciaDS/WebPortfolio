{
 "cells": [
  {
   "cell_type": "markdown",
   "metadata": {},
   "source": [
    "## Get the lyrics from the songs in a folder using facebook demucs and openai whisper"
   ]
  },
  {
   "cell_type": "code",
   "execution_count": 1,
   "metadata": {},
   "outputs": [],
   "source": [
    "import demucs.separate\n",
    "import whisper\n",
    "import os\n",
    "model = whisper.load_model(\"base\")\n",
    "#https://github.com/facebookresearch/demucs\n",
    "#demucs.separate.main([\"--float32\", \"--two-stems\", \"bass\", \"-n\", \"mdx_extra\", \"Sarcásmica - Todos se alejan.wav\"])\n",
    "#demucs.separate.main([\"--float32\", \"Sarcásmica - Todos se alejan.wav\"])"
   ]
  },
  {
   "cell_type": "code",
   "execution_count": 2,
   "metadata": {},
   "outputs": [],
   "source": [
    "def SongToLyrics(songname):\n",
    "    demucs.separate.main([\"--mp3\", \"--two-stems\", \"vocals\", \"-n\", \"mdx_extra\", songname])\n",
    "    result = model.transcribe(\"separated/mdx_extra/\"+songname.replace(\".mp3\",\"\")+\"/vocals.mp3\", language=\"spanish\")[\"text\"]\n",
    "    with open(songname.replace(\".mp3\", \".txt\"),mode ='w') as file:\n",
    "        file.write(result)"
   ]
  },
  {
   "cell_type": "code",
   "execution_count": 3,
   "metadata": {},
   "outputs": [],
   "source": [
    "listsongs=[]\n",
    "for file in os.listdir():\n",
    "    if file.endswith(\".mp3\"):\n",
    "        listsongs.append(file)"
   ]
  },
  {
   "cell_type": "code",
   "execution_count": 4,
   "metadata": {},
   "outputs": [
    {
     "name": "stdout",
     "output_type": "stream",
     "text": [
      "Selected model is a bag of 4 models. You will see that many progress bars per track.\n",
      "Separated tracks will be stored in /media/victor/Dual/Portafolio/VictorGarciaDS.github.io/assets/projects/separated/mdx_extra\n",
      "Separating track Vómito.mp3\n"
     ]
    },
    {
     "name": "stderr",
     "output_type": "stream",
     "text": [
      "100%|████████████████████████████████████████████████████████████████████████| 264.0/264.0 [01:05<00:00,  4.02seconds/s]\n",
      "100%|████████████████████████████████████████████████████████████████████████| 264.0/264.0 [01:02<00:00,  4.23seconds/s]\n",
      "100%|████████████████████████████████████████████████████████████████████████| 264.0/264.0 [01:02<00:00,  4.21seconds/s]\n",
      "100%|████████████████████████████████████████████████████████████████████████| 264.0/264.0 [01:03<00:00,  4.14seconds/s]\n",
      "/home/victor/.local/lib/python3.12/site-packages/whisper/transcribe.py:126: UserWarning: FP16 is not supported on CPU; using FP32 instead\n",
      "  warnings.warn(\"FP16 is not supported on CPU; using FP32 instead\")\n"
     ]
    },
    {
     "name": "stdout",
     "output_type": "stream",
     "text": [
      "Selected model is a bag of 4 models. You will see that many progress bars per track.\n",
      "Separated tracks will be stored in /media/victor/Dual/Portafolio/VictorGarciaDS.github.io/assets/projects/separated/mdx_extra\n",
      "Separating track PequeñaSeñorita1565- NoHaySuficienteIra.mp3\n"
     ]
    },
    {
     "name": "stderr",
     "output_type": "stream",
     "text": [
      "100%|████████████████████████████████████████████████████████████████████████| 264.0/264.0 [01:08<00:00,  3.88seconds/s]\n",
      "100%|████████████████████████████████████████████████████████████████████████| 264.0/264.0 [01:08<00:00,  3.84seconds/s]\n",
      "100%|████████████████████████████████████████████████████████████████████████| 264.0/264.0 [01:11<00:00,  3.69seconds/s]\n",
      "100%|████████████████████████████████████████████████████████████████████████| 264.0/264.0 [01:06<00:00,  3.99seconds/s]\n",
      "/home/victor/.local/lib/python3.12/site-packages/whisper/transcribe.py:126: UserWarning: FP16 is not supported on CPU; using FP32 instead\n",
      "  warnings.warn(\"FP16 is not supported on CPU; using FP32 instead\")\n"
     ]
    }
   ],
   "source": [
    "for i in range(len(listsongs)):\n",
    "    SongToLyrics(listsongs[i])"
   ]
  }
 ],
 "metadata": {
  "kernelspec": {
   "display_name": "Python 3",
   "language": "python",
   "name": "python3"
  },
  "language_info": {
   "codemirror_mode": {
    "name": "ipython",
    "version": 3
   },
   "file_extension": ".py",
   "mimetype": "text/x-python",
   "name": "python",
   "nbconvert_exporter": "python",
   "pygments_lexer": "ipython3",
   "version": "3.12.2"
  }
 },
 "nbformat": 4,
 "nbformat_minor": 2
}
