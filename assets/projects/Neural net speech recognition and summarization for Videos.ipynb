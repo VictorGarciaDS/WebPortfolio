{
 "cells": [
  {
   "cell_type": "markdown",
   "id": "673c345c",
   "metadata": {},
   "source": [
    "# Neural net speech recognition and summarization for Videos\n",
    "---\n",
    "\n",
    "Victor Miguel Garcia Sanchez\n",
    "\n",
    "1 de marzo de 2024\n",
    "\n",
    "---\n",
    "Loading libraries and global variables"
   ]
  },
  {
   "cell_type": "code",
   "execution_count": 1,
   "id": "9d4d3351",
   "metadata": {},
   "outputs": [],
   "source": [
    "import subprocess\n",
    "import moviepy.editor as mp\n",
    "from moviepy.video.io.ffmpeg_tools import ffmpeg_extract_subclip\n",
    "import whisper\n",
    "# https://openai.com/blog/whisper/\n",
    "# pip install git+https://github.com/openai/whisper.git, not whisper.py unrelated package\n",
    "from pathlib import Path\n",
    "from transformers import pipeline\n",
    "import os\n",
    "import re\n",
    "\n",
    "summarizer = pipeline(\"summarization\", model=\"facebook/bart-large-cnn\")\n",
    "# https://arxiv.org/pdf/1912.08777.pdf"
   ]
  },
  {
   "cell_type": "markdown",
   "id": "6dd6879b",
   "metadata": {},
   "source": [
    "Función para determinar la duración total del video"
   ]
  },
  {
   "cell_type": "code",
   "execution_count": 2,
   "id": "f411c5b3",
   "metadata": {},
   "outputs": [],
   "source": [
    "def get_length(filename):\n",
    "    result = subprocess.run([\"ffprobe\", \"-v\", \"error\", \"-show_entries\",\n",
    "                             \"format=duration\", \"-of\",\n",
    "                             \"default=noprint_wrappers=1:nokey=1\", filename],\n",
    "        stdout=subprocess.PIPE,\n",
    "        stderr=subprocess.STDOUT)\n",
    "    return float(result.stdout)"
   ]
  },
  {
   "cell_type": "markdown",
   "id": "ed9932e3",
   "metadata": {},
   "source": [
    "Function to generate the video subtitles, separating them into blocks of chunk_size seconds. The function can be limited so that it only generates the subtitles between the start and stop seconds, and can be used as:\n",
    "\n",
    "-VideoToSRT(\"video.mp4\")\n",
    "\n",
    "-VideoToSRT(\"video.mp4\", 10)\n",
    "\n",
    "-VideoToSRT(\"video.mp4\", 10, 52)\n",
    "\n",
    "-VideoToSRT(\"video.mp4\", 5, 34, 212)"
   ]
  },
  {
   "cell_type": "code",
   "execution_count": 3,
   "id": "3632e620",
   "metadata": {},
   "outputs": [],
   "source": [
    "def VideoToSRT(filename, chunk_size=5, start=0, stop=-1):\n",
    "    num_seconds_video= int(get_length(filename))+1\n",
    "    print(\"The video is {} seconds\".format(num_seconds_video))\n",
    "    l=list(range(0,num_seconds_video+1,chunk_size))\n",
    "    rank=range(len(l)-1)\n",
    "    if stop>num_seconds_video:\n",
    "        print(\"Upper time limit exceeds the duration of the video, it will be considered the end of the video\")\n",
    "    if start>0:\n",
    "        emp=int(start/chunk_size)\n",
    "    else:\n",
    "        emp=0\n",
    "    if stop>-1:\n",
    "        term=int(stop/chunk_size)+1\n",
    "    else:\n",
    "        term=len(l)-1\n",
    "    rank=range(emp,term)\n",
    "    diz={}\n",
    "\n",
    "    for i in rank:\n",
    "        ffmpeg_extract_subclip(filename, l[i]-2*(l[i]!=0), l[i+1], targetname=\"chunks/cut{}.mp4\".format(i+1))\n",
    "        clip = mp.VideoFileClip(r\"chunks/cut{}.mp4\".format(i+1)) \n",
    "        clip.audio.write_audiofile(r\"converted/converted{}.wav\".format(i+1))\n",
    "        os.remove(r\"chunks/cut{}.mp4\".format(i+1))\n",
    "\n",
    "        model = whisper.load_model(\"base\")\n",
    "        result = model.transcribe(\"converted/converted{}.wav\".format(i+1), language=\"english\")\n",
    "        os.remove(r\"converted/converted{}.wav\".format(i+1))\n",
    "        print(\"Removing converted/converted{}.wav\".format(i+1))\n",
    "        print(\"------------------------------------------------------------\")\n",
    "        print(round((i-emp)*100/len(rank),2),\"%:\")\n",
    "        diz['chunk{}'.format(i+1)]=result[\"text\"]\n",
    "\n",
    "        l_chunks=[str(i+1)+'\\n00:'+\"{:02d}\".format(int(chunk_size*i/60))+':'+\"{:02d}\".format(chunk_size*i%60)+',000 --> '+'00:'+\"{:02d}\".format(int(chunk_size*(i+1)/60))+':'+\"{:02d}\".format(chunk_size*(i+1)%60-1)+',999\\n'+diz['chunk{}'.format(i+1)] for i in range(min(rank),(len(diz)+min(rank)-1))]\n",
    "        text='\\n\\n'.join(l_chunks)\n",
    "\n",
    "        with open(filename[:-3]+'txt',mode ='w') as file:\n",
    "          file.write(\"\\n\")\n",
    "          file.write(text)\n",
    "        \n",
    "        p = Path(filename[:-3]+'txt')\n",
    "        p.rename(p.with_suffix('.srt'))\n",
    "    print(\"100%\")\n",
    "    print(\"Finally ready!\")"
   ]
  },
  {
   "cell_type": "markdown",
   "id": "923088de",
   "metadata": {},
   "source": [
    "## Get the video script\n",
    "Function to get the complete video script at Script.txt file."
   ]
  },
  {
   "cell_type": "code",
   "execution_count": 4,
   "id": "2c419dfa",
   "metadata": {},
   "outputs": [],
   "source": [
    "def VideoScript(filename):\n",
    "    clip = mp.VideoFileClip(filename)\n",
    "    clip.audio.write_audiofile(filename[:-3]+\".wav\")\n",
    "    model = whisper.load_model(\"base\")\n",
    "    result = model.transcribe(filename[:-3]+\".wav\", language=\"english\")\n",
    "    os.remove(filename[:-3]+\".wav\")\n",
    "    Script=result[\"text\"]\n",
    "    with open('Script.txt',mode ='w') as file:\n",
    "          file.write(Script)\n",
    "    print(Script)\n",
    "    return(Script)"
   ]
  },
  {
   "cell_type": "markdown",
   "id": "36fbb49d",
   "metadata": {},
   "source": [
    "## Create a summary from the script\n",
    "Defines the functions necessary to summarize the Script into a maximum of max_len sentences"
   ]
  },
  {
   "cell_type": "markdown",
   "id": "4a956bd0",
   "metadata": {},
   "source": [
    "Running the functions\n",
    "\n",
    "The following function only creates the video subtitles in an SRT format to test the Whisper library"
   ]
  },
  {
   "cell_type": "code",
   "execution_count": 5,
   "id": "9e2ad65f",
   "metadata": {},
   "outputs": [
    {
     "name": "stdout",
     "output_type": "stream",
     "text": [
      "The video is 861 seconds\n",
      "Moviepy - Running:\n",
      ">>> \"+ \" \".join(cmd)\n",
      "Moviepy - Command successful\n",
      "MoviePy - Writing audio in converted/converted1.wav\n"
     ]
    },
    {
     "name": "stderr",
     "output_type": "stream",
     "text": [
      "                                                        "
     ]
    },
    {
     "name": "stdout",
     "output_type": "stream",
     "text": [
      "MoviePy - Done.\n"
     ]
    },
    {
     "name": "stderr",
     "output_type": "stream",
     "text": [
      "\r"
     ]
    },
    {
     "name": "stdout",
     "output_type": "stream",
     "text": [
      "Removing converted/converted1.wav\n",
      "------------------------------------------------------------\n",
      "0.0 %:\n",
      "Moviepy - Running:\n",
      ">>> \"+ \" \".join(cmd)\n",
      "Moviepy - Command successful\n",
      "MoviePy - Writing audio in converted/converted2.wav\n"
     ]
    },
    {
     "name": "stderr",
     "output_type": "stream",
     "text": [
      "                                                        "
     ]
    },
    {
     "name": "stdout",
     "output_type": "stream",
     "text": [
      "MoviePy - Done.\n"
     ]
    },
    {
     "name": "stderr",
     "output_type": "stream",
     "text": [
      "\r"
     ]
    },
    {
     "name": "stdout",
     "output_type": "stream",
     "text": [
      "Removing converted/converted2.wav\n",
      "------------------------------------------------------------\n",
      "2.7 %:\n",
      "Moviepy - Running:\n",
      ">>> \"+ \" \".join(cmd)\n",
      "Moviepy - Command successful\n",
      "MoviePy - Writing audio in converted/converted3.wav\n"
     ]
    },
    {
     "name": "stderr",
     "output_type": "stream",
     "text": [
      "                                                        "
     ]
    },
    {
     "name": "stdout",
     "output_type": "stream",
     "text": [
      "MoviePy - Done.\n"
     ]
    },
    {
     "name": "stderr",
     "output_type": "stream",
     "text": [
      "\r"
     ]
    },
    {
     "name": "stdout",
     "output_type": "stream",
     "text": [
      "Removing converted/converted3.wav\n",
      "------------------------------------------------------------\n",
      "5.41 %:\n",
      "Moviepy - Running:\n",
      ">>> \"+ \" \".join(cmd)\n",
      "Moviepy - Command successful\n",
      "MoviePy - Writing audio in converted/converted4.wav\n"
     ]
    },
    {
     "name": "stderr",
     "output_type": "stream",
     "text": [
      "                                                        "
     ]
    },
    {
     "name": "stdout",
     "output_type": "stream",
     "text": [
      "MoviePy - Done.\n"
     ]
    },
    {
     "name": "stderr",
     "output_type": "stream",
     "text": [
      "\r"
     ]
    },
    {
     "name": "stdout",
     "output_type": "stream",
     "text": [
      "Removing converted/converted4.wav\n",
      "------------------------------------------------------------\n",
      "8.11 %:\n",
      "Moviepy - Running:\n",
      ">>> \"+ \" \".join(cmd)\n",
      "Moviepy - Command successful\n",
      "MoviePy - Writing audio in converted/converted5.wav\n"
     ]
    },
    {
     "name": "stderr",
     "output_type": "stream",
     "text": [
      "                                                        "
     ]
    },
    {
     "name": "stdout",
     "output_type": "stream",
     "text": [
      "MoviePy - Done.\n"
     ]
    },
    {
     "name": "stderr",
     "output_type": "stream",
     "text": [
      "\r"
     ]
    },
    {
     "name": "stdout",
     "output_type": "stream",
     "text": [
      "Removing converted/converted5.wav\n",
      "------------------------------------------------------------\n",
      "10.81 %:\n",
      "Moviepy - Running:\n",
      ">>> \"+ \" \".join(cmd)\n",
      "Moviepy - Command successful\n",
      "MoviePy - Writing audio in converted/converted6.wav\n"
     ]
    },
    {
     "name": "stderr",
     "output_type": "stream",
     "text": [
      "                                                        "
     ]
    },
    {
     "name": "stdout",
     "output_type": "stream",
     "text": [
      "MoviePy - Done.\n"
     ]
    },
    {
     "name": "stderr",
     "output_type": "stream",
     "text": [
      "\r"
     ]
    },
    {
     "name": "stdout",
     "output_type": "stream",
     "text": [
      "Removing converted/converted6.wav\n",
      "------------------------------------------------------------\n",
      "13.51 %:\n",
      "Moviepy - Running:\n",
      ">>> \"+ \" \".join(cmd)\n",
      "Moviepy - Command successful\n",
      "MoviePy - Writing audio in converted/converted7.wav\n"
     ]
    },
    {
     "name": "stderr",
     "output_type": "stream",
     "text": [
      "                                                        "
     ]
    },
    {
     "name": "stdout",
     "output_type": "stream",
     "text": [
      "MoviePy - Done.\n"
     ]
    },
    {
     "name": "stderr",
     "output_type": "stream",
     "text": [
      "\r"
     ]
    },
    {
     "name": "stdout",
     "output_type": "stream",
     "text": [
      "Removing converted/converted7.wav\n",
      "------------------------------------------------------------\n",
      "16.22 %:\n",
      "Moviepy - Running:\n",
      ">>> \"+ \" \".join(cmd)\n",
      "Moviepy - Command successful\n",
      "MoviePy - Writing audio in converted/converted8.wav\n"
     ]
    },
    {
     "name": "stderr",
     "output_type": "stream",
     "text": [
      "                                                        "
     ]
    },
    {
     "name": "stdout",
     "output_type": "stream",
     "text": [
      "MoviePy - Done.\n"
     ]
    },
    {
     "name": "stderr",
     "output_type": "stream",
     "text": [
      "\r"
     ]
    },
    {
     "name": "stdout",
     "output_type": "stream",
     "text": [
      "Removing converted/converted8.wav\n",
      "------------------------------------------------------------\n",
      "18.92 %:\n",
      "Moviepy - Running:\n",
      ">>> \"+ \" \".join(cmd)\n",
      "Moviepy - Command successful\n",
      "MoviePy - Writing audio in converted/converted9.wav\n"
     ]
    },
    {
     "name": "stderr",
     "output_type": "stream",
     "text": [
      "                                                        "
     ]
    },
    {
     "name": "stdout",
     "output_type": "stream",
     "text": [
      "MoviePy - Done.\n"
     ]
    },
    {
     "name": "stderr",
     "output_type": "stream",
     "text": [
      "\r"
     ]
    },
    {
     "name": "stdout",
     "output_type": "stream",
     "text": [
      "Removing converted/converted9.wav\n",
      "------------------------------------------------------------\n",
      "21.62 %:\n",
      "Moviepy - Running:\n",
      ">>> \"+ \" \".join(cmd)\n",
      "Moviepy - Command successful\n",
      "MoviePy - Writing audio in converted/converted10.wav\n"
     ]
    },
    {
     "name": "stderr",
     "output_type": "stream",
     "text": [
      "                                                        "
     ]
    },
    {
     "name": "stdout",
     "output_type": "stream",
     "text": [
      "MoviePy - Done.\n"
     ]
    },
    {
     "name": "stderr",
     "output_type": "stream",
     "text": [
      "\r"
     ]
    },
    {
     "name": "stdout",
     "output_type": "stream",
     "text": [
      "Removing converted/converted10.wav\n",
      "------------------------------------------------------------\n",
      "24.32 %:\n",
      "Moviepy - Running:\n",
      ">>> \"+ \" \".join(cmd)\n",
      "Moviepy - Command successful\n",
      "MoviePy - Writing audio in converted/converted11.wav\n"
     ]
    },
    {
     "name": "stderr",
     "output_type": "stream",
     "text": [
      "                                                        "
     ]
    },
    {
     "name": "stdout",
     "output_type": "stream",
     "text": [
      "MoviePy - Done.\n"
     ]
    },
    {
     "name": "stderr",
     "output_type": "stream",
     "text": [
      "\r"
     ]
    },
    {
     "name": "stdout",
     "output_type": "stream",
     "text": [
      "Removing converted/converted11.wav\n",
      "------------------------------------------------------------\n",
      "27.03 %:\n",
      "Moviepy - Running:\n",
      ">>> \"+ \" \".join(cmd)\n",
      "Moviepy - Command successful\n",
      "MoviePy - Writing audio in converted/converted12.wav\n"
     ]
    },
    {
     "name": "stderr",
     "output_type": "stream",
     "text": [
      "                                                        "
     ]
    },
    {
     "name": "stdout",
     "output_type": "stream",
     "text": [
      "MoviePy - Done.\n"
     ]
    },
    {
     "name": "stderr",
     "output_type": "stream",
     "text": [
      "\r"
     ]
    },
    {
     "name": "stdout",
     "output_type": "stream",
     "text": [
      "Removing converted/converted12.wav\n",
      "------------------------------------------------------------\n",
      "29.73 %:\n",
      "Moviepy - Running:\n",
      ">>> \"+ \" \".join(cmd)\n",
      "Moviepy - Command successful\n",
      "MoviePy - Writing audio in converted/converted13.wav\n"
     ]
    },
    {
     "name": "stderr",
     "output_type": "stream",
     "text": [
      "                                                        "
     ]
    },
    {
     "name": "stdout",
     "output_type": "stream",
     "text": [
      "MoviePy - Done.\n"
     ]
    },
    {
     "name": "stderr",
     "output_type": "stream",
     "text": [
      "\r"
     ]
    },
    {
     "name": "stdout",
     "output_type": "stream",
     "text": [
      "Removing converted/converted13.wav\n",
      "------------------------------------------------------------\n",
      "32.43 %:\n",
      "Moviepy - Running:\n",
      ">>> \"+ \" \".join(cmd)\n",
      "Moviepy - Command successful\n",
      "MoviePy - Writing audio in converted/converted14.wav\n"
     ]
    },
    {
     "name": "stderr",
     "output_type": "stream",
     "text": [
      "                                                        "
     ]
    },
    {
     "name": "stdout",
     "output_type": "stream",
     "text": [
      "MoviePy - Done.\n"
     ]
    },
    {
     "name": "stderr",
     "output_type": "stream",
     "text": [
      "\r"
     ]
    },
    {
     "name": "stdout",
     "output_type": "stream",
     "text": [
      "Removing converted/converted14.wav\n",
      "------------------------------------------------------------\n",
      "35.14 %:\n",
      "Moviepy - Running:\n",
      ">>> \"+ \" \".join(cmd)\n",
      "Moviepy - Command successful\n",
      "MoviePy - Writing audio in converted/converted15.wav\n"
     ]
    },
    {
     "name": "stderr",
     "output_type": "stream",
     "text": [
      "                                                        "
     ]
    },
    {
     "name": "stdout",
     "output_type": "stream",
     "text": [
      "MoviePy - Done.\n"
     ]
    },
    {
     "name": "stderr",
     "output_type": "stream",
     "text": [
      "\r"
     ]
    },
    {
     "name": "stdout",
     "output_type": "stream",
     "text": [
      "Removing converted/converted15.wav\n",
      "------------------------------------------------------------\n",
      "37.84 %:\n",
      "Moviepy - Running:\n",
      ">>> \"+ \" \".join(cmd)\n",
      "Moviepy - Command successful\n",
      "MoviePy - Writing audio in converted/converted16.wav\n"
     ]
    },
    {
     "name": "stderr",
     "output_type": "stream",
     "text": [
      "                                                        "
     ]
    },
    {
     "name": "stdout",
     "output_type": "stream",
     "text": [
      "MoviePy - Done.\n"
     ]
    },
    {
     "name": "stderr",
     "output_type": "stream",
     "text": [
      "\r"
     ]
    },
    {
     "name": "stdout",
     "output_type": "stream",
     "text": [
      "Removing converted/converted16.wav\n",
      "------------------------------------------------------------\n",
      "40.54 %:\n",
      "Moviepy - Running:\n",
      ">>> \"+ \" \".join(cmd)\n",
      "Moviepy - Command successful\n",
      "MoviePy - Writing audio in converted/converted17.wav\n"
     ]
    },
    {
     "name": "stderr",
     "output_type": "stream",
     "text": [
      "                                                        "
     ]
    },
    {
     "name": "stdout",
     "output_type": "stream",
     "text": [
      "MoviePy - Done.\n"
     ]
    },
    {
     "name": "stderr",
     "output_type": "stream",
     "text": [
      "\r"
     ]
    },
    {
     "name": "stdout",
     "output_type": "stream",
     "text": [
      "Removing converted/converted17.wav\n",
      "------------------------------------------------------------\n",
      "43.24 %:\n",
      "Moviepy - Running:\n",
      ">>> \"+ \" \".join(cmd)\n",
      "Moviepy - Command successful\n",
      "MoviePy - Writing audio in converted/converted18.wav\n"
     ]
    },
    {
     "name": "stderr",
     "output_type": "stream",
     "text": [
      "                                                        "
     ]
    },
    {
     "name": "stdout",
     "output_type": "stream",
     "text": [
      "MoviePy - Done.\n"
     ]
    },
    {
     "name": "stderr",
     "output_type": "stream",
     "text": [
      "\r"
     ]
    },
    {
     "name": "stdout",
     "output_type": "stream",
     "text": [
      "Removing converted/converted18.wav\n",
      "------------------------------------------------------------\n",
      "45.95 %:\n",
      "Moviepy - Running:\n",
      ">>> \"+ \" \".join(cmd)\n",
      "Moviepy - Command successful\n",
      "MoviePy - Writing audio in converted/converted19.wav\n"
     ]
    },
    {
     "name": "stderr",
     "output_type": "stream",
     "text": [
      "                                                        "
     ]
    },
    {
     "name": "stdout",
     "output_type": "stream",
     "text": [
      "MoviePy - Done.\n"
     ]
    },
    {
     "name": "stderr",
     "output_type": "stream",
     "text": [
      "\r"
     ]
    },
    {
     "name": "stdout",
     "output_type": "stream",
     "text": [
      "Removing converted/converted19.wav\n",
      "------------------------------------------------------------\n",
      "48.65 %:\n",
      "Moviepy - Running:\n",
      ">>> \"+ \" \".join(cmd)\n",
      "Moviepy - Command successful\n",
      "MoviePy - Writing audio in converted/converted20.wav\n"
     ]
    },
    {
     "name": "stderr",
     "output_type": "stream",
     "text": [
      "                                                        "
     ]
    },
    {
     "name": "stdout",
     "output_type": "stream",
     "text": [
      "MoviePy - Done.\n"
     ]
    },
    {
     "name": "stderr",
     "output_type": "stream",
     "text": [
      "\r"
     ]
    },
    {
     "name": "stdout",
     "output_type": "stream",
     "text": [
      "Removing converted/converted20.wav\n",
      "------------------------------------------------------------\n",
      "51.35 %:\n",
      "Moviepy - Running:\n",
      ">>> \"+ \" \".join(cmd)\n",
      "Moviepy - Command successful\n",
      "MoviePy - Writing audio in converted/converted21.wav\n"
     ]
    },
    {
     "name": "stderr",
     "output_type": "stream",
     "text": [
      "                                                        "
     ]
    },
    {
     "name": "stdout",
     "output_type": "stream",
     "text": [
      "MoviePy - Done.\n"
     ]
    },
    {
     "name": "stderr",
     "output_type": "stream",
     "text": [
      "\r"
     ]
    },
    {
     "name": "stdout",
     "output_type": "stream",
     "text": [
      "Removing converted/converted21.wav\n",
      "------------------------------------------------------------\n",
      "54.05 %:\n",
      "Moviepy - Running:\n",
      ">>> \"+ \" \".join(cmd)\n",
      "Moviepy - Command successful\n",
      "MoviePy - Writing audio in converted/converted22.wav\n"
     ]
    },
    {
     "name": "stderr",
     "output_type": "stream",
     "text": [
      "                                                        "
     ]
    },
    {
     "name": "stdout",
     "output_type": "stream",
     "text": [
      "MoviePy - Done.\n"
     ]
    },
    {
     "name": "stderr",
     "output_type": "stream",
     "text": [
      "\r"
     ]
    },
    {
     "name": "stdout",
     "output_type": "stream",
     "text": [
      "Removing converted/converted22.wav\n",
      "------------------------------------------------------------\n",
      "56.76 %:\n",
      "Moviepy - Running:\n",
      ">>> \"+ \" \".join(cmd)\n",
      "Moviepy - Command successful\n",
      "MoviePy - Writing audio in converted/converted23.wav\n"
     ]
    },
    {
     "name": "stderr",
     "output_type": "stream",
     "text": [
      "                                                        "
     ]
    },
    {
     "name": "stdout",
     "output_type": "stream",
     "text": [
      "MoviePy - Done.\n"
     ]
    },
    {
     "name": "stderr",
     "output_type": "stream",
     "text": [
      "\r"
     ]
    },
    {
     "name": "stdout",
     "output_type": "stream",
     "text": [
      "Removing converted/converted23.wav\n",
      "------------------------------------------------------------\n",
      "59.46 %:\n",
      "Moviepy - Running:\n",
      ">>> \"+ \" \".join(cmd)\n",
      "Moviepy - Command successful\n",
      "MoviePy - Writing audio in converted/converted24.wav\n"
     ]
    },
    {
     "name": "stderr",
     "output_type": "stream",
     "text": [
      "                                                        "
     ]
    },
    {
     "name": "stdout",
     "output_type": "stream",
     "text": [
      "MoviePy - Done.\n"
     ]
    },
    {
     "name": "stderr",
     "output_type": "stream",
     "text": [
      "\r"
     ]
    },
    {
     "name": "stdout",
     "output_type": "stream",
     "text": [
      "Removing converted/converted24.wav\n",
      "------------------------------------------------------------\n",
      "62.16 %:\n",
      "Moviepy - Running:\n",
      ">>> \"+ \" \".join(cmd)\n",
      "Moviepy - Command successful\n",
      "MoviePy - Writing audio in converted/converted25.wav\n"
     ]
    },
    {
     "name": "stderr",
     "output_type": "stream",
     "text": [
      "                                                        "
     ]
    },
    {
     "name": "stdout",
     "output_type": "stream",
     "text": [
      "MoviePy - Done.\n"
     ]
    },
    {
     "name": "stderr",
     "output_type": "stream",
     "text": [
      "\r"
     ]
    },
    {
     "name": "stdout",
     "output_type": "stream",
     "text": [
      "Removing converted/converted25.wav\n",
      "------------------------------------------------------------\n",
      "64.86 %:\n",
      "Moviepy - Running:\n",
      ">>> \"+ \" \".join(cmd)\n",
      "Moviepy - Command successful\n",
      "MoviePy - Writing audio in converted/converted26.wav\n"
     ]
    },
    {
     "name": "stderr",
     "output_type": "stream",
     "text": [
      "                                                        "
     ]
    },
    {
     "name": "stdout",
     "output_type": "stream",
     "text": [
      "MoviePy - Done.\n"
     ]
    },
    {
     "name": "stderr",
     "output_type": "stream",
     "text": [
      "\r"
     ]
    },
    {
     "name": "stdout",
     "output_type": "stream",
     "text": [
      "Removing converted/converted26.wav\n",
      "------------------------------------------------------------\n",
      "67.57 %:\n",
      "Moviepy - Running:\n",
      ">>> \"+ \" \".join(cmd)\n",
      "Moviepy - Command successful\n",
      "MoviePy - Writing audio in converted/converted27.wav\n"
     ]
    },
    {
     "name": "stderr",
     "output_type": "stream",
     "text": [
      "                                                        "
     ]
    },
    {
     "name": "stdout",
     "output_type": "stream",
     "text": [
      "MoviePy - Done.\n"
     ]
    },
    {
     "name": "stderr",
     "output_type": "stream",
     "text": [
      "\r"
     ]
    },
    {
     "name": "stdout",
     "output_type": "stream",
     "text": [
      "Removing converted/converted27.wav\n",
      "------------------------------------------------------------\n",
      "70.27 %:\n",
      "Moviepy - Running:\n",
      ">>> \"+ \" \".join(cmd)\n",
      "Moviepy - Command successful\n",
      "MoviePy - Writing audio in converted/converted28.wav\n"
     ]
    },
    {
     "name": "stderr",
     "output_type": "stream",
     "text": [
      "                                                        "
     ]
    },
    {
     "name": "stdout",
     "output_type": "stream",
     "text": [
      "MoviePy - Done.\n"
     ]
    },
    {
     "name": "stderr",
     "output_type": "stream",
     "text": [
      "\r"
     ]
    },
    {
     "name": "stdout",
     "output_type": "stream",
     "text": [
      "Removing converted/converted28.wav\n",
      "------------------------------------------------------------\n",
      "72.97 %:\n",
      "Moviepy - Running:\n",
      ">>> \"+ \" \".join(cmd)\n",
      "Moviepy - Command successful\n",
      "MoviePy - Writing audio in converted/converted29.wav\n"
     ]
    },
    {
     "name": "stderr",
     "output_type": "stream",
     "text": [
      "                                                        "
     ]
    },
    {
     "name": "stdout",
     "output_type": "stream",
     "text": [
      "MoviePy - Done.\n"
     ]
    },
    {
     "name": "stderr",
     "output_type": "stream",
     "text": [
      "\r"
     ]
    },
    {
     "name": "stdout",
     "output_type": "stream",
     "text": [
      "Removing converted/converted29.wav\n",
      "------------------------------------------------------------\n",
      "75.68 %:\n",
      "Moviepy - Running:\n",
      ">>> \"+ \" \".join(cmd)\n",
      "Moviepy - Command successful\n",
      "MoviePy - Writing audio in converted/converted30.wav\n"
     ]
    },
    {
     "name": "stderr",
     "output_type": "stream",
     "text": [
      "                                                        "
     ]
    },
    {
     "name": "stdout",
     "output_type": "stream",
     "text": [
      "MoviePy - Done.\n"
     ]
    },
    {
     "name": "stderr",
     "output_type": "stream",
     "text": [
      "\r"
     ]
    },
    {
     "name": "stdout",
     "output_type": "stream",
     "text": [
      "Removing converted/converted30.wav\n",
      "------------------------------------------------------------\n",
      "78.38 %:\n",
      "Moviepy - Running:\n",
      ">>> \"+ \" \".join(cmd)\n",
      "Moviepy - Command successful\n",
      "MoviePy - Writing audio in converted/converted31.wav\n"
     ]
    },
    {
     "name": "stderr",
     "output_type": "stream",
     "text": [
      "                                                        "
     ]
    },
    {
     "name": "stdout",
     "output_type": "stream",
     "text": [
      "MoviePy - Done.\n"
     ]
    },
    {
     "name": "stderr",
     "output_type": "stream",
     "text": [
      "\r"
     ]
    },
    {
     "name": "stdout",
     "output_type": "stream",
     "text": [
      "Removing converted/converted31.wav\n",
      "------------------------------------------------------------\n",
      "81.08 %:\n",
      "Moviepy - Running:\n",
      ">>> \"+ \" \".join(cmd)\n",
      "Moviepy - Command successful\n",
      "MoviePy - Writing audio in converted/converted32.wav\n"
     ]
    },
    {
     "name": "stderr",
     "output_type": "stream",
     "text": [
      "                                                        "
     ]
    },
    {
     "name": "stdout",
     "output_type": "stream",
     "text": [
      "MoviePy - Done.\n"
     ]
    },
    {
     "name": "stderr",
     "output_type": "stream",
     "text": [
      "\r"
     ]
    },
    {
     "name": "stdout",
     "output_type": "stream",
     "text": [
      "Removing converted/converted32.wav\n",
      "------------------------------------------------------------\n",
      "83.78 %:\n",
      "Moviepy - Running:\n",
      ">>> \"+ \" \".join(cmd)\n",
      "Moviepy - Command successful\n",
      "MoviePy - Writing audio in converted/converted33.wav\n"
     ]
    },
    {
     "name": "stderr",
     "output_type": "stream",
     "text": [
      "                                                        "
     ]
    },
    {
     "name": "stdout",
     "output_type": "stream",
     "text": [
      "MoviePy - Done.\n"
     ]
    },
    {
     "name": "stderr",
     "output_type": "stream",
     "text": [
      "\r"
     ]
    },
    {
     "name": "stdout",
     "output_type": "stream",
     "text": [
      "Removing converted/converted33.wav\n",
      "------------------------------------------------------------\n",
      "86.49 %:\n",
      "Moviepy - Running:\n",
      ">>> \"+ \" \".join(cmd)\n",
      "Moviepy - Command successful\n",
      "MoviePy - Writing audio in converted/converted34.wav\n"
     ]
    },
    {
     "name": "stderr",
     "output_type": "stream",
     "text": [
      "                                                        "
     ]
    },
    {
     "name": "stdout",
     "output_type": "stream",
     "text": [
      "MoviePy - Done.\n"
     ]
    },
    {
     "name": "stderr",
     "output_type": "stream",
     "text": [
      "\r"
     ]
    },
    {
     "name": "stdout",
     "output_type": "stream",
     "text": [
      "Removing converted/converted34.wav\n",
      "------------------------------------------------------------\n",
      "89.19 %:\n",
      "Moviepy - Running:\n",
      ">>> \"+ \" \".join(cmd)\n",
      "Moviepy - Command successful\n",
      "MoviePy - Writing audio in converted/converted35.wav\n"
     ]
    },
    {
     "name": "stderr",
     "output_type": "stream",
     "text": [
      "                                                        "
     ]
    },
    {
     "name": "stdout",
     "output_type": "stream",
     "text": [
      "MoviePy - Done.\n"
     ]
    },
    {
     "name": "stderr",
     "output_type": "stream",
     "text": [
      "\r"
     ]
    },
    {
     "name": "stdout",
     "output_type": "stream",
     "text": [
      "Removing converted/converted35.wav\n",
      "------------------------------------------------------------\n",
      "91.89 %:\n",
      "Moviepy - Running:\n",
      ">>> \"+ \" \".join(cmd)\n",
      "Moviepy - Command successful\n",
      "MoviePy - Writing audio in converted/converted36.wav\n"
     ]
    },
    {
     "name": "stderr",
     "output_type": "stream",
     "text": [
      "                                                        "
     ]
    },
    {
     "name": "stdout",
     "output_type": "stream",
     "text": [
      "MoviePy - Done.\n"
     ]
    },
    {
     "name": "stderr",
     "output_type": "stream",
     "text": [
      "\r"
     ]
    },
    {
     "name": "stdout",
     "output_type": "stream",
     "text": [
      "Removing converted/converted36.wav\n",
      "------------------------------------------------------------\n",
      "94.59 %:\n",
      "Moviepy - Running:\n",
      ">>> \"+ \" \".join(cmd)\n",
      "Moviepy - Command successful\n",
      "MoviePy - Writing audio in converted/converted37.wav\n"
     ]
    },
    {
     "name": "stderr",
     "output_type": "stream",
     "text": [
      "                                                        "
     ]
    },
    {
     "name": "stdout",
     "output_type": "stream",
     "text": [
      "MoviePy - Done.\n"
     ]
    },
    {
     "name": "stderr",
     "output_type": "stream",
     "text": [
      "\r"
     ]
    },
    {
     "name": "stdout",
     "output_type": "stream",
     "text": [
      "Removing converted/converted37.wav\n",
      "------------------------------------------------------------\n",
      "97.3 %:\n",
      "100%\n",
      "Finally ready!\n"
     ]
    }
   ],
   "source": [
    "VideoToSRT(\"How Clicking a Single Link Can Cost Millions.mp4\",5,0,180)"
   ]
  },
  {
   "cell_type": "markdown",
   "id": "7048dd14",
   "metadata": {},
   "source": [
    "The VideoScript function generates and prints the entire video script"
   ]
  },
  {
   "cell_type": "code",
   "execution_count": 6,
   "id": "d2a1ffb7",
   "metadata": {
    "scrolled": true
   },
   "outputs": [
    {
     "name": "stdout",
     "output_type": "stream",
     "text": [
      "MoviePy - Writing audio in How Clicking a Single Link Can Cost Millions..wav\n"
     ]
    },
    {
     "name": "stderr",
     "output_type": "stream",
     "text": [
      "                                                                        \r"
     ]
    },
    {
     "name": "stdout",
     "output_type": "stream",
     "text": [
      "MoviePy - Done.\n",
      " I received a phone call from somebody who needed my help and they explained to me that this organisation suffered a cyber attack, more specifically a ransomware attack which is designed to both steal your data and make it unusable. It replicates itself throughout the business and can drive you down to paper-based controls. And this was an opportunity that I saw where I could influence something positively. And it was my job to investigate what had happened, how it happened and why. And I saw something that I hadn't experienced before firsthand. In 2017, the NHS suffered something similar and it cost nearly £100m to recover. This incident cost around £5m to recover and took 14 months. Yet what I saw was the human impact. How this happened, a single individual clicked a link and a single individual enabled this, unknowingly, to happen to an organisation. Multiple people were signed off sick due to stress and multiple people weren't able to go to work the next day and carry out their job. Now for me, cyber security is a very technological focused term. And yet IBM did a study in 2021 and 95% of cyber attacks use the human element. Now that's all well and good but what does that actually mean? It means people can be exploited too. There's no lines of code and there's no fancy software. Cyber security is the, as far as the media is concerned, maybe teenagers and their bedrooms causing trouble stealing things and learning how to use them. Yet what people don't see is the impact and how it's day to day life. And this incident for me made me think slightly differently around cyber security. And recently I had an opportunity which presented this thought process. I was commissioned to evade security controls for a very well-known building in London. That's a snazzy way of saying break in. And effectively it was my job to see if I could get past the security controls and get into the building. And so for me, thinking kind of outside of the box, this building has floor to ceiling doors, 24, 7 security team, endless budget for this kind of thing based on where they are. And so thinking slightly outside, I needed to come up with a different plan. And what I did was I tried to go down the social engineering route which is the art of kind of deception and making people believe something without the full information. And what I did was I walked in the front door, dressed quite similarly to this. And I was greeted by eight people. And I thought, oh, it's very over the top. And it's because every single person should have the right information and should know where they're going. It's very rare for them to be visitors. And this person asked me, well, why are you here? Who are you here to see? And I explained I didn't have an appointment but I was here to see a specific person. And they said, yeah, there's no chance you're getting in. And I thought, I'll try to go this way. And yeah, what I know is people are empathetic and people want to help each other. And so I made up a story. And I said I was here for a legal matter. And I was only able to achieve what I needed to achieve on these premises. And they said, yeah, sorry, we're still. And I explained the urgency. And I made them feel sorry for me. And when I was thinking about giving this talk, I was going to pause and I was going to pretend that I was struggling. And that motion that you would have felt where you wanted to help me or you wanted me to continue is exactly how this person felt. They felt they were stopping me from doing my job, which they were. But not for how they expected it. And so I know I pretended to be on the phone in the 4A, pacing up and down, pretending to be aggravated. And then the manager came across with a QR code for me and said, so sorry, so sorry for the issues, no problem. And they showed me around a side passage away from the two rounds of security. So I had my laptop bag with me with the evidence. And it wasn't checked. And I was able to go in. And I was able to go to the floor that I needed to. And I was paid as a cybersecurity expert to evade the controls of this building. And all I did was ask for access and make someone feel sorry for me. And so that's two very different perspectives. One, the 5 million pound job and took 14 months to recover where I was helping people. But the second I was the aggressor where the person trying to get in. Now this is all enabled through the way that humans exist and human behavior. And cybersecurity as a whole doesn't really represent that in a way that is sufficient, I don't think. And so I have one more narrative and different perspective to share. And it's when I was a victim. This happened only a few weeks ago. And what happened was I received a phone call. It was around 8 p.m. I received a phone call from a phone number. And they said, hello is this Mr. Pullin? I said yes. And they said, we've seen your bank cards be used in a different part of the country. And I thought, oh, goodness. And what they explained was they explained there's been three different transactions. And would they like to block them for me? I said, yes, please. That would be really helpful. And I googled the number out of instinct and it was the phone number from the fraud line in the bank. And something didn't add up. And I'm a bit of a pessimist. I don't really trust people. And so I was instantly on the back for, and they're saying all of these things. And they were confirming my identity. They told me where I lived. They told my mother's maiden name. And they told me a few other bits of information that bank would know. And all of this is to build a perception of credibility. Why shouldn't I trust you? And why shouldn't you be phoning me to help me? And we go back and forth for around an hour and a half. And there was a few things that didn't sit right with me. And so when I was a hold when they were blocking my transactions, I phoned the actual fraud line and I said, is there a way that I can verify their identity? The person on the phone said, they sounded very professional on legitimate. And they were. I asked for their name and they had a fake LinkedIn profile. They had a fake crime reference number for me. And me experiencing this first hand, having investigated things like this on a regular basis for mortgages and transactions ending up in the wrong place, I knew something wasn't sitting quite right. And this, the true person put a note on my account and I explained to the person, can you tell me what the note says, please? And the first time they got a little bit flustered. It took them five minutes and they said, yeah, we'll go and check with the accounts team. But in the meantime, can you tell me the code that it says in your mobile app, at which point I can hang up, got my cards replaced, and I was okay. But these three narratives of cybercrime or scams or criminal behavior are all technology focused with the end goal, but are human led. And you may ask, how is this possible? Why can this be so easy? I've literally just walked into a building and asked someone to let me in with a fake story. And someone's phoned me up with small piece of information and built this incredible picture around, okay, yes, I should trust you. And it's because data has a value in different pockets. And with small bits of information, you can build quite a narrative, as you can see. And so today, what you would be able to do on the kind of criminal underground, if you like, would be by a thousand email addresses and passwords for around $6 US. A cup of coffee in some places, right? That's a thousand people's account details that you may be able to log into or have tangible information to create a case. And that might be, potentially, to be Amazon for a passable reset. It might be what location you went on holiday and we're going to do a bit more of a targeted attack that way. And this information is available because of vulnerabilities from a technical standpoint. Yeah, this is to exploit the human behaviors. Take my parents, for example, I think I'm inside of a security because my parents give me a balance. My mum is 100%, 110% optimist, nothing's going to go wrong. Everything's again, no one's going to hurt my little boy and all of this sort of stuff. And my dad's much more on the pessimist again, where, why'd you want to know me? Why'd you want this information? And so that balance for me brings kind of both sides of the story. And my mum is the sort of person that would have shared the traditional WhatsApp messages, 250 pounds of Christmas, all how lovely that would be, pay for your Christmas lunch and all of those sorts of things. And that then becomes a whole different attack vector because it's coming from someone you trust and they're sharing your link and they're sharing something you might want to click and you begin to trust even more. And so my talk is around really focusing on the ways in which human behavior is exploited and how we can benefit and protect each other. And it's okay to call these things out. And so there's some basic things you can do, such as resetting passwords and making sure you're not using the same password for your accounts. Because if one of your passwords did get leaked, you would like to know, okay, it's just this one account and I understand that's the one I need to look after. When many people use the same profile Facebook, their bank, their online banking, sorry. And sites that you can purchase things. So you might be able to go on Amazon and buy an iPhone when someone's using the password, right? Bank account details are stored. And that creates a whole different perspective of risk and cybercrime. And so for me, I don't believe any generation can avoid this anymore. Children are being raised with iPads and older generations are online shopping because of convenience and accessibility to services they may not have had before. And so I believe that understanding how these things may happen and putting some light on them can really impact the way in which people conduct themselves and challenge when things may not feel quite right. And so for me, going through this journey and those three different perspectives, the one where I was the person helping, five million pounds and seeing people really suffer. The second one where I was putting people potentially in that position, however, fully ethically and I was there meant to be there for my job. And the third where I was the victim, it shows that it can take many different shapes based on information and information can come from social media. And so if you're going on holidays in Mexico, say for your honeymoon, you've saved up all of this money. Wonderful. Have a lovely time. Yet someone you know or an acquaintance or you have public visibility of your arrangements. If someone knows that information and they know the bank you may work with, they could phone you whilst you land and say, we've seen your card be used in this location. Now, how are you going to feel if someone saying your card's being used and it's you? You're going to feel, okay, cool. Yeah, this is me. No problem. And they say, okay, can you just confirm your identity because I want to make sure this is you. Can you just tell me your card number? So you do. And then you ask, why are you there? I'm on my honeymoon, I have a lovely time. All of these social engineering empathetic side of behaviors. And then you get down into the more conversational elements. Okay, can you just confirm your card isn't going to expire? When does it expire please? There's many different ways you can post questions to make people feel acceptance. And then lastly, can you just check the security pins or I know which card I'm going to disable? And by that time what you've done is, you've told someone you've got money in your bank because you've been saving for this wonderful occasion. And also you're not going to be in the country to do anything about it. And so from a cybersecurity perspective, exploitation can happen in many different ways and I don't think it's publicized around the human elements enough. And so if you take one thing from today, I ask that you see this as your opportunity to make sure that you protect your own information and your loved ones and your identity online. There's no problem with using social media. All I ask is you consider who you're sharing that information with. The reason being that information is valuable even if it's not to you. It could build a picture and it could cause you some trouble. Consider who you share your information with. Thank you.\n"
     ]
    }
   ],
   "source": [
    "ClickingMillions=VideoScript(\"How Clicking a Single Link Can Cost Millions.mp4\")"
   ]
  },
  {
   "cell_type": "markdown",
   "id": "ee0ee88e",
   "metadata": {},
   "source": [
    "# Summary"
   ]
  },
  {
   "cell_type": "code",
   "execution_count": 7,
   "id": "cd7813cd",
   "metadata": {},
   "outputs": [],
   "source": [
    "def AbstractiveSummarization(Script, max_len=60):\n",
    "    Sentences=Script.split(\". \")\n",
    "    textsize=len(Sentences)\n",
    "    if(textsize<=50):\n",
    "        Summary=summarizer(Script, max_length=max_len+10, min_length=max_len-10, do_sample=False)[0][\"summary_text\"]\n",
    "    else:\n",
    "        chunks=int(textsize/50)+1\n",
    "        k,m=divmod(textsize,chunks)\n",
    "        Summary=\"\"\n",
    "        for i in range(chunks):\n",
    "            subscript=[]\n",
    "            subscript.append('. '.join(Sentences[i*k+min(i,m):(i+1)*k+min(i,m)]))\n",
    "            if i>0:\n",
    "                Summary+='. '\n",
    "            try:\n",
    "                Summary+=summarizer(subscript, max_length=int((max_len+10)/chunks), min_length=int((max_len-10)/chunks), do_sample=False)[0][\"summary_text\"]\n",
    "            except:\n",
    "                #Too long paragraph, splitting again\n",
    "                Subsentences=subscript[0].split(\". \")\n",
    "                Subk,Subm=divmod(len(Subsentences),2)\n",
    "                for j in range(2):\n",
    "                    subsubscript=[]\n",
    "                    subsubscript.append('. '.join(Subsentences[j*Subk+min(j,Subm):(j+1)*Subk+min(j,Subm)]))\n",
    "                    Summary+=summarizer(subsubscript, max_length=int((max_len+10)/2*chunks), min_length=int((max_len-10)/2*chunks), do_sample=False)[0][\"summary_text\"]\n",
    "    Summary=Summary.replace(\"\\'\",\"'\")\n",
    "    return(Summary)"
   ]
  },
  {
   "cell_type": "code",
   "execution_count": 8,
   "id": "611e5cd1",
   "metadata": {},
   "outputs": [
    {
     "name": "stderr",
     "output_type": "stream",
     "text": [
      "Token indices sequence length is longer than the specified maximum sequence length for this model (1036 > 1024). Running this sequence through the model will result in indexing errors\n"
     ]
    },
    {
     "data": {
      "text/plain": [
       "'In 2017, the NHS suffered something similar and it cost nearly £100m to recover. This incident. Mr Pullin was paid as a cybersecurity expert to evade the controls of this building. He says he. \"This is to exploit the human behaviors. And so there\\'s some basic things you can do, such as resetting passwords and making sure you\\'re not using the same password for your accounts\" \"I don\\'t believe any generation can avoid this anymore. Children are being raised with iPads and older generations are online shopping because of convenience and accessibility to services they may not have had before\"If you\\'re going on holidays in Mexico, say for your honeymoon, you\\'ve saved up all of this money. Have a lovely time. Yet someone you know or an acquaintance or you have public visibility of your arrangements. If someone knows that information and they know the bank you may work with, they could phone you whilst you land and say, we\\'ve seen your card be used in this location.'"
      ]
     },
     "execution_count": 8,
     "metadata": {},
     "output_type": "execute_result"
    }
   ],
   "source": [
    "AbstractiveSummarization(ClickingMillions, 60)"
   ]
  }
 ],
 "metadata": {
  "kernelspec": {
   "display_name": "Python 3 (ipykernel)",
   "language": "python",
   "name": "python3"
  },
  "language_info": {
   "codemirror_mode": {
    "name": "ipython",
    "version": 3
   },
   "file_extension": ".py",
   "mimetype": "text/x-python",
   "name": "python",
   "nbconvert_exporter": "python",
   "pygments_lexer": "ipython3",
   "version": "3.12.2"
  }
 },
 "nbformat": 4,
 "nbformat_minor": 5
}
